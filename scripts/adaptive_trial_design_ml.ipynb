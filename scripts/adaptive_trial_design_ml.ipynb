{
 "cells": [
  {
   "cell_type": "code",
   "execution_count": 1,
   "id": "d6e0610a-d71d-46b8-b83a-bbdbb5bd6000",
   "metadata": {},
   "outputs": [
    {
     "name": "stdout",
     "output_type": "stream",
     "text": [
      "   Patient_ID  Age  Gender  Biomarker_Level Treatment_Group  Outcome\n",
      "0           1   63    Male        66.032146       Treatment        0\n",
      "1           2   20  Female        37.918065       Treatment        0\n",
      "2           3   46    Male        53.301736       Treatment        0\n",
      "3           4   52  Female        60.062807       Treatment        1\n",
      "4           5   56  Female        38.907021       Treatment        0\n"
     ]
    }
   ],
   "source": [
    "import pandas as pd\n",
    "import numpy as np\n",
    "\n",
    "# Set random seed for reproducibility\n",
    "np.random.seed(123)\n",
    "\n",
    "# Generate synthetic data\n",
    "n_patients = 1000\n",
    "data = {\n",
    "    \"Patient_ID\": np.arange(1, n_patients + 1),\n",
    "    \"Age\": np.random.randint(18, 80, size=n_patients),\n",
    "    \"Gender\": np.random.choice([\"Male\", \"Female\"], size=n_patients),\n",
    "    \"Biomarker_Level\": np.random.normal(50, 10, size=n_patients),  # Mean = 50, Std = 10\n",
    "    \"Treatment_Group\": np.random.choice([\"Treatment\", \"Control\"], size=n_patients),\n",
    "    \"Outcome\": np.random.choice([0, 1], size=n_patients, p=[0.6, 0.4])  # 40% response rate\n",
    "}\n",
    "\n",
    "# Create DataFrame\n",
    "df = pd.DataFrame(data)\n",
    "\n",
    "# Save to CSV\n",
    "df.to_csv(\"adaptive_clinical_trial_data.csv\", index=False)\n",
    "\n",
    "print(df.head())"
   ]
  },
  {
   "cell_type": "code",
   "execution_count": 7,
   "id": "f3129591-b3dd-44a2-ab21-dd0b517b2d27",
   "metadata": {},
   "outputs": [
    {
     "name": "stdout",
     "output_type": "stream",
     "text": [
      "Accuracy: 0.52\n",
      "              precision    recall  f1-score   support\n",
      "\n",
      "           0       0.60      0.63      0.61       122\n",
      "           1       0.37      0.33      0.35        78\n",
      "\n",
      "    accuracy                           0.52       200\n",
      "   macro avg       0.48      0.48      0.48       200\n",
      "weighted avg       0.51      0.52      0.51       200\n",
      "\n"
     ]
    }
   ],
   "source": [
    "from sklearn.ensemble import RandomForestClassifier\n",
    "from sklearn.model_selection import train_test_split\n",
    "from sklearn.metrics import accuracy_score, classification_report\n",
    "\n",
    "# Load the synthetic data\n",
    "df = pd.read_csv(\"adaptive_clinical_trial_data.csv\")\n",
    "\n",
    "# Encode categorical variables\n",
    "df[\"Gender\"] = df[\"Gender\"].map({\"Male\": 0, \"Female\": 1})\n",
    "df[\"Treatment_Group\"] = df[\"Treatment_Group\"].map({\"Control\": 0, \"Treatment\": 1})\n",
    "\n",
    "# Define features and target\n",
    "X = df[[\"Age\", \"Gender\", \"Biomarker_Level\", \"Treatment_Group\"]]\n",
    "y = df[\"Outcome\"]\n",
    "\n",
    "# Split data into training and testing sets\n",
    "X_train, X_test, y_train, y_test = train_test_split(X, y, test_size=0.2, random_state=123)\n",
    "\n",
    "# Train a Random Forest model\n",
    "model = RandomForestClassifier(n_estimators=100, random_state=123)\n",
    "model.fit(X_train, y_train)\n",
    "\n",
    "# Make predictions\n",
    "y_pred = model.predict(X_test)\n",
    "\n",
    "# Evaluate the model\n",
    "accuracy = accuracy_score(y_test, y_pred)\n",
    "print(f\"Accuracy: {accuracy:.2f}\")\n",
    "print(classification_report(y_test, y_pred))"
   ]
  },
  {
   "cell_type": "code",
   "execution_count": 3,
   "id": "734f2c2f-e682-4e6a-adc9-1ae5493879a7",
   "metadata": {},
   "outputs": [
    {
     "name": "stdout",
     "output_type": "stream",
     "text": [
      "Training Random Forest...\n",
      "Random Forest Accuracy: 0.52\n",
      "              precision    recall  f1-score   support\n",
      "\n",
      "           0       0.60      0.63      0.61       122\n",
      "           1       0.37      0.33      0.35        78\n",
      "\n",
      "    accuracy                           0.52       200\n",
      "   macro avg       0.48      0.48      0.48       200\n",
      "weighted avg       0.51      0.52      0.51       200\n",
      "\n",
      "--------------------------------------------------\n",
      "Training XGBoost...\n",
      "XGBoost Accuracy: 0.52\n",
      "              precision    recall  f1-score   support\n",
      "\n",
      "           0       0.59      0.65      0.62       122\n",
      "           1       0.36      0.31      0.33        78\n",
      "\n",
      "    accuracy                           0.52       200\n",
      "   macro avg       0.48      0.48      0.48       200\n",
      "weighted avg       0.50      0.52      0.51       200\n",
      "\n",
      "--------------------------------------------------\n",
      "Training Logistic Regression...\n",
      "Logistic Regression Accuracy: 0.62\n",
      "              precision    recall  f1-score   support\n",
      "\n",
      "           0       0.62      0.98      0.76       122\n",
      "           1       0.71      0.06      0.12        78\n",
      "\n",
      "    accuracy                           0.62       200\n",
      "   macro avg       0.67      0.52      0.44       200\n",
      "weighted avg       0.66      0.62      0.51       200\n",
      "\n",
      "--------------------------------------------------\n"
     ]
    }
   ],
   "source": [
    "from sklearn.ensemble import RandomForestClassifier\n",
    "from xgboost import XGBClassifier\n",
    "from sklearn.linear_model import LogisticRegression\n",
    "from sklearn.model_selection import train_test_split\n",
    "from sklearn.metrics import accuracy_score, classification_report\n",
    "\n",
    "# Load the synthetic data\n",
    "df = pd.read_csv(\"adaptive_clinical_trial_data.csv\")\n",
    "\n",
    "# Encode categorical variables\n",
    "df[\"Gender\"] = df[\"Gender\"].map({\"Male\": 0, \"Female\": 1})\n",
    "df[\"Treatment_Group\"] = df[\"Treatment_Group\"].map({\"Control\": 0, \"Treatment\": 1})\n",
    "\n",
    "# Define features and target\n",
    "X = df[[\"Age\", \"Gender\", \"Biomarker_Level\", \"Treatment_Group\"]]\n",
    "y = df[\"Outcome\"]\n",
    "\n",
    "# Split data into training and testing sets\n",
    "X_train, X_test, y_train, y_test = train_test_split(X, y, test_size=0.2, random_state=123)\n",
    "\n",
    "# Define models to compare\n",
    "models = {\n",
    "    \"Random Forest\": RandomForestClassifier(n_estimators=100, random_state=123),\n",
    "    \"XGBoost\": XGBClassifier(random_state=123),\n",
    "    \"Logistic Regression\": LogisticRegression(random_state=123)\n",
    "}\n",
    "\n",
    "# Train and evaluate each model\n",
    "for name, model in models.items():\n",
    "    print(f\"Training {name}...\")\n",
    "    model.fit(X_train, y_train)\n",
    "    y_pred = model.predict(X_test)\n",
    "    accuracy = accuracy_score(y_test, y_pred)\n",
    "    print(f\"{name} Accuracy: {accuracy:.2f}\")\n",
    "    print(classification_report(y_test, y_pred))\n",
    "    print(\"-\" * 50)"
   ]
  },
  {
   "cell_type": "code",
   "execution_count": 4,
   "id": "d5e59dcb-785c-47cf-96c8-bd8d054505c1",
   "metadata": {},
   "outputs": [
    {
     "name": "stdout",
     "output_type": "stream",
     "text": [
      "Requirement already satisfied: optuna in ./myenv/lib/python3.12/site-packages (4.2.0)\n",
      "Requirement already satisfied: alembic>=1.5.0 in ./myenv/lib/python3.12/site-packages (from optuna) (1.14.1)\n",
      "Requirement already satisfied: colorlog in ./myenv/lib/python3.12/site-packages (from optuna) (6.9.0)\n",
      "Requirement already satisfied: numpy in ./myenv/lib/python3.12/site-packages (from optuna) (2.2.2)\n",
      "Requirement already satisfied: packaging>=20.0 in ./myenv/lib/python3.12/site-packages (from optuna) (24.2)\n",
      "Requirement already satisfied: sqlalchemy>=1.4.2 in ./myenv/lib/python3.12/site-packages (from optuna) (2.0.37)\n",
      "Requirement already satisfied: tqdm in ./myenv/lib/python3.12/site-packages (from optuna) (4.67.1)\n",
      "Requirement already satisfied: PyYAML in ./myenv/lib/python3.12/site-packages (from optuna) (6.0.2)\n",
      "Requirement already satisfied: Mako in ./myenv/lib/python3.12/site-packages (from alembic>=1.5.0->optuna) (1.3.8)\n",
      "Requirement already satisfied: typing-extensions>=4 in ./myenv/lib/python3.12/site-packages (from alembic>=1.5.0->optuna) (4.12.2)\n",
      "Requirement already satisfied: greenlet!=0.4.17 in ./myenv/lib/python3.12/site-packages (from sqlalchemy>=1.4.2->optuna) (3.1.1)\n",
      "Requirement already satisfied: MarkupSafe>=0.9.2 in ./myenv/lib/python3.12/site-packages (from Mako->alembic>=1.5.0->optuna) (3.0.2)\n",
      "\n",
      "\u001b[1m[\u001b[0m\u001b[34;49mnotice\u001b[0m\u001b[1;39;49m]\u001b[0m\u001b[39;49m A new release of pip is available: \u001b[0m\u001b[31;49m24.0\u001b[0m\u001b[39;49m -> \u001b[0m\u001b[32;49m25.0\u001b[0m\n",
      "\u001b[1m[\u001b[0m\u001b[34;49mnotice\u001b[0m\u001b[1;39;49m]\u001b[0m\u001b[39;49m To update, run: \u001b[0m\u001b[32;49mpip install --upgrade pip\u001b[0m\n"
     ]
    }
   ],
   "source": [
    "!pip install optuna"
   ]
  },
  {
   "cell_type": "code",
   "execution_count": 8,
   "id": "e5a7ac14-241e-48f7-808f-499bacbaa6cd",
   "metadata": {},
   "outputs": [
    {
     "name": "stderr",
     "output_type": "stream",
     "text": [
      "[I 2025-02-02 13:03:40,864] A new study created in memory with name: no-name-bdc902e7-67c3-4932-bfc1-0ecd2e54968c\n",
      "[I 2025-02-02 13:03:41,052] Trial 0 finished with value: 0.525 and parameters: {'n_estimators': 246, 'max_depth': 5, 'learning_rate': 0.18274155332354186, 'subsample': 0.5220736580948706, 'colsample_bytree': 0.8315044132494396}. Best is trial 0 with value: 0.525.\n",
      "[I 2025-02-02 13:03:41,161] Trial 1 finished with value: 0.525 and parameters: {'n_estimators': 254, 'max_depth': 5, 'learning_rate': 0.2268711799138841, 'subsample': 0.516320299863456, 'colsample_bytree': 0.5617974364723703}. Best is trial 0 with value: 0.525.\n",
      "[I 2025-02-02 13:03:41,253] Trial 2 finished with value: 0.5 and parameters: {'n_estimators': 165, 'max_depth': 8, 'learning_rate': 0.158719539960697, 'subsample': 0.9386890752972077, 'colsample_bytree': 0.766257240651703}. Best is trial 0 with value: 0.525.\n",
      "[I 2025-02-02 13:03:41,301] Trial 3 finished with value: 0.61875 and parameters: {'n_estimators': 55, 'max_depth': 6, 'learning_rate': 0.017604085640085813, 'subsample': 0.660528425649369, 'colsample_bytree': 0.9304942818068189}. Best is trial 3 with value: 0.61875.\n",
      "[I 2025-02-02 13:03:41,429] Trial 4 finished with value: 0.5125 and parameters: {'n_estimators': 234, 'max_depth': 10, 'learning_rate': 0.133642631464533, 'subsample': 0.5316175683902156, 'colsample_bytree': 0.9431875450013917}. Best is trial 3 with value: 0.61875.\n",
      "[I 2025-02-02 13:03:41,528] Trial 5 finished with value: 0.5375 and parameters: {'n_estimators': 300, 'max_depth': 4, 'learning_rate': 0.09000320885949059, 'subsample': 0.713944678801993, 'colsample_bytree': 0.8133399153092681}. Best is trial 3 with value: 0.61875.\n",
      "[I 2025-02-02 13:03:41,616] Trial 6 finished with value: 0.5375 and parameters: {'n_estimators': 267, 'max_depth': 4, 'learning_rate': 0.14791791175057384, 'subsample': 0.9581204690699282, 'colsample_bytree': 0.5093597102373404}. Best is trial 3 with value: 0.61875.\n",
      "[I 2025-02-02 13:03:41,718] Trial 7 finished with value: 0.6125 and parameters: {'n_estimators': 254, 'max_depth': 6, 'learning_rate': 0.01139358799356639, 'subsample': 0.7980760331711376, 'colsample_bytree': 0.53222168383147}. Best is trial 3 with value: 0.61875.\n",
      "[I 2025-02-02 13:03:41,762] Trial 8 finished with value: 0.61875 and parameters: {'n_estimators': 57, 'max_depth': 4, 'learning_rate': 0.049666891175955484, 'subsample': 0.7655430067876285, 'colsample_bytree': 0.5559623441243742}. Best is trial 3 with value: 0.61875.\n",
      "[I 2025-02-02 13:03:41,888] Trial 9 finished with value: 0.5 and parameters: {'n_estimators': 264, 'max_depth': 6, 'learning_rate': 0.10117255190228867, 'subsample': 0.6766969330467936, 'colsample_bytree': 0.872216372243853}. Best is trial 3 with value: 0.61875.\n",
      "[I 2025-02-02 13:03:41,972] Trial 10 finished with value: 0.625 and parameters: {'n_estimators': 54, 'max_depth': 8, 'learning_rate': 0.01764286333213899, 'subsample': 0.6251003528870203, 'colsample_bytree': 0.9837069703769868}. Best is trial 10 with value: 0.625.\n",
      "[I 2025-02-02 13:03:42,053] Trial 11 finished with value: 0.61875 and parameters: {'n_estimators': 60, 'max_depth': 8, 'learning_rate': 0.016272861549570736, 'subsample': 0.6293633319031073, 'colsample_bytree': 0.9874909398907993}. Best is trial 10 with value: 0.625.\n",
      "[I 2025-02-02 13:03:42,159] Trial 12 finished with value: 0.58125 and parameters: {'n_estimators': 107, 'max_depth': 8, 'learning_rate': 0.0333976626612009, 'subsample': 0.611845467081853, 'colsample_bytree': 0.6844891181676773}. Best is trial 10 with value: 0.625.\n",
      "[I 2025-02-02 13:03:42,269] Trial 13 finished with value: 0.55625 and parameters: {'n_estimators': 109, 'max_depth': 10, 'learning_rate': 0.024536767384858476, 'subsample': 0.8472114659638563, 'colsample_bytree': 0.9240593855526986}. Best is trial 10 with value: 0.625.\n",
      "[I 2025-02-02 13:03:42,356] Trial 14 finished with value: 0.6375 and parameters: {'n_estimators': 101, 'max_depth': 7, 'learning_rate': 0.010187230076645987, 'subsample': 0.6171154100654539, 'colsample_bytree': 0.9956511973114269}. Best is trial 14 with value: 0.6375.\n",
      "[I 2025-02-02 13:03:42,469] Trial 15 finished with value: 0.61875 and parameters: {'n_estimators': 119, 'max_depth': 9, 'learning_rate': 0.01197025163993551, 'subsample': 0.583725835781378, 'colsample_bytree': 0.988989014674549}. Best is trial 14 with value: 0.6375.\n",
      "[I 2025-02-02 13:03:42,561] Trial 16 finished with value: 0.5875 and parameters: {'n_estimators': 135, 'max_depth': 7, 'learning_rate': 0.03211893540915647, 'subsample': 0.5828719233721763, 'colsample_bytree': 0.6578105571369521}. Best is trial 14 with value: 0.6375.\n",
      "[I 2025-02-02 13:03:42,627] Trial 17 finished with value: 0.61875 and parameters: {'n_estimators': 79, 'max_depth': 7, 'learning_rate': 0.010204552104731842, 'subsample': 0.7061236411207148, 'colsample_bytree': 0.8749848528691352}. Best is trial 14 with value: 0.6375.\n",
      "[I 2025-02-02 13:03:42,737] Trial 18 finished with value: 0.5625 and parameters: {'n_estimators': 193, 'max_depth': 9, 'learning_rate': 0.018511870139199003, 'subsample': 0.8514059906022097, 'colsample_bytree': 0.7381578523908031}. Best is trial 14 with value: 0.6375.\n",
      "[I 2025-02-02 13:03:42,828] Trial 19 finished with value: 0.5625 and parameters: {'n_estimators': 90, 'max_depth': 9, 'learning_rate': 0.054008926335786994, 'subsample': 0.5680730180791311, 'colsample_bytree': 0.9890249099871404}. Best is trial 14 with value: 0.6375.\n"
     ]
    },
    {
     "name": "stdout",
     "output_type": "stream",
     "text": [
      "Best Parameters: {'n_estimators': 101, 'max_depth': 7, 'learning_rate': 0.010187230076645987, 'subsample': 0.6171154100654539, 'colsample_bytree': 0.9956511973114269}\n"
     ]
    }
   ],
   "source": [
    "import optuna\n",
    "import numpy as np\n",
    "import pandas as pd\n",
    "from xgboost import XGBClassifier\n",
    "from sklearn.metrics import accuracy_score\n",
    "from sklearn.model_selection import train_test_split\n",
    "\n",
    "# Ensure X_train, y_train are correctly formatted\n",
    "X_train, X_valid, y_train, y_valid = train_test_split(X_train, y_train, test_size=0.2, random_state=42)\n",
    "\n",
    "# Define the Optuna objective function\n",
    "def objective(trial):\n",
    "    params = {\n",
    "        \"n_estimators\": trial.suggest_int(\"n_estimators\", 50, 300),\n",
    "        \"max_depth\": trial.suggest_int(\"max_depth\", 3, 10),\n",
    "        \"learning_rate\": trial.suggest_float(\"learning_rate\", 0.01, 0.3, log=True),\n",
    "        \"subsample\": trial.suggest_float(\"subsample\", 0.5, 1.0),\n",
    "        \"colsample_bytree\": trial.suggest_float(\"colsample_bytree\", 0.5, 1.0)\n",
    "    }\n",
    "\n",
    "    model = XGBClassifier(**params, random_state=123, eval_metric=\"logloss\")\n",
    "    model.fit(X_train, y_train)\n",
    "\n",
    "    y_pred = model.predict(X_valid)\n",
    "    accuracy = accuracy_score(y_valid, y_pred)\n",
    "    \n",
    "    return accuracy\n",
    "\n",
    "# Run the optimization\n",
    "study = optuna.create_study(direction=\"maximize\")\n",
    "study.optimize(objective, n_trials=20)\n",
    "\n",
    "# Print best parameters\n",
    "print(\"Best Parameters:\", study.best_params)\n"
   ]
  },
  {
   "cell_type": "code",
   "execution_count": 9,
   "id": "8325f63f-d6c8-41ce-b874-b41058b503f7",
   "metadata": {},
   "outputs": [
    {
     "name": "stdout",
     "output_type": "stream",
     "text": [
      "Test Set Accuracy: 0.605\n"
     ]
    }
   ],
   "source": [
    "#Train the Final Model with Best Parameters\n",
    "\n",
    "best_params = study.best_params\n",
    "\n",
    "best_model = XGBClassifier(**best_params, random_state=123, eval_metric=\"logloss\")\n",
    "best_model.fit(X_train, y_train)\n",
    "\n",
    "# Evaluate on test set\n",
    "y_pred = best_model.predict(X_test)\n",
    "print(\"Test Set Accuracy:\", accuracy_score(y_test, y_pred))\n",
    "\n"
   ]
  },
  {
   "cell_type": "code",
   "execution_count": 12,
   "id": "49f968a9-9309-4bce-826c-f4df1e5c50c8",
   "metadata": {},
   "outputs": [
    {
     "name": "stderr",
     "output_type": "stream",
     "text": [
      "Matplotlib is building the font cache; this may take a moment.\n"
     ]
    },
    {
     "data": {
      "image/png": "[encoded data removed]",
      "text/plain": [
       "<Figure size 1000x600 with 1 Axes>"
      ]
     },
     "metadata": {},
     "output_type": "display_data"
    }
   ],
   "source": [
    "#Feature Importance Analysis\n",
    "\n",
    "import matplotlib.pyplot as plt\n",
    "\n",
    "# Get feature importances from the best model\n",
    "feature_importances = best_model.feature_importances_\n",
    "feature_names = X.columns\n",
    "\n",
    "# Plot feature importances\n",
    "plt.figure(figsize=(10, 6))\n",
    "plt.barh(feature_names, feature_importances)\n",
    "plt.xlabel(\"Feature Importance\")\n",
    "plt.ylabel(\"Feature\")\n",
    "plt.title(\"Feature Importance in XGBoost Model\")\n",
    "plt.show()"
   ]
  },
  {
   "cell_type": "code",
   "execution_count": 16,
   "id": "0bc68271-2b3c-4d0c-b59e-e0ca6376e4c6",
   "metadata": {},
   "outputs": [
    {
     "name": "stdout",
     "output_type": "stream",
     "text": [
      "Cross-Validation Accuracy Scores: [0.525, 0.49, 0.495, 0.53, 0.535]\n",
      "Mean CV Accuracy: 0.515\n",
      "Standard Deviation: 0.018708286933869722\n"
     ]
    }
   ],
   "source": [
    "#Step 4: Cross-Validation for Robustness\n",
    "#To ensure the model’s performance is consistent, we’ll use cross-validation.\n",
    "\n",
    "from sklearn.model_selection import StratifiedKFold\n",
    "from sklearn.metrics import accuracy_score\n",
    "from xgboost import XGBClassifier\n",
    "import numpy as np\n",
    "\n",
    "# Define the XGBoost model with optimal hyperparameters\n",
    "best_model = XGBClassifier(\n",
    "    n_estimators=200,\n",
    "    max_depth=5,\n",
    "    learning_rate=0.1,\n",
    "    subsample=0.9,\n",
    "    colsample_bytree=0.9,\n",
    "    random_state=42,\n",
    "    eval_metric=\"logloss\"\n",
    ")\n",
    "\n",
    "# Set up Stratified K-Fold Cross-Validation (5 folds)\n",
    "cv = StratifiedKFold(n_splits=5, shuffle=True, random_state=42)\n",
    "\n",
    "# Store the accuracy scores for each fold\n",
    "cv_scores = []\n",
    "\n",
    "# Perform the cross-validation manually\n",
    "for train_index, val_index in cv.split(X, y):\n",
    "    # Split the data\n",
    "    X_train, X_val = X.iloc[train_index], X.iloc[val_index]\n",
    "    y_train, y_val = y.iloc[train_index], y.iloc[val_index]\n",
    "    \n",
    "    # Train the model on the training data\n",
    "    best_model.fit(X_train, y_train)\n",
    "    \n",
    "    # Make predictions on the validation data\n",
    "    y_pred = best_model.predict(X_val)\n",
    "    \n",
    "    # Evaluate the model performance using accuracy score\n",
    "    score = accuracy_score(y_val, y_pred)\n",
    "    cv_scores.append(score)\n",
    "\n",
    "# Print the cross-validation results\n",
    "print(\"Cross-Validation Accuracy Scores:\", cv_scores)\n",
    "print(\"Mean CV Accuracy:\", np.mean(cv_scores))\n",
    "print(\"Standard Deviation:\", np.std(cv_scores))\n"
   ]
  },
  {
   "cell_type": "code",
   "execution_count": 17,
   "id": "1d28767a-a29a-4412-b678-1deeb6cb35fb",
   "metadata": {},
   "outputs": [
    {
     "data": {
      "text/plain": [
       "['best_xgboost_model.pkl']"
      ]
     },
     "execution_count": 17,
     "metadata": {},
     "output_type": "execute_result"
    }
   ],
   "source": [
    "#Step 5: Save the Best Model\n",
    "import joblib\n",
    "\n",
    "# Save the best model\n",
    "joblib.dump(best_model, \"best_xgboost_model.pkl\")\n",
    "\n",
    "# Load the model (for future use)\n",
    "# loaded_model = joblib.load(\"best_xgboost_model.pkl\")"
   ]
  },
  {
   "cell_type": "code",
   "execution_count": null,
   "id": "ba0c7785-678b-4f56-b3a5-b167766f3468",
   "metadata": {},
   "outputs": [],
   "source": []
  }
 ],
 "metadata": {
  "kernelspec": {
   "display_name": "Python (myenv)",
   "language": "python",
   "name": "myenv"
  },
  "language_info": {
   "codemirror_mode": {
    "name": "ipython",
    "version": 3
   },
   "file_extension": ".py",
   "mimetype": "text/x-python",
   "name": "python",
   "nbconvert_exporter": "python",
   "pygments_lexer": "ipython3",
   "version": "3.12.4"
  }
 },
 "nbformat": 4,
 "nbformat_minor": 5
}
